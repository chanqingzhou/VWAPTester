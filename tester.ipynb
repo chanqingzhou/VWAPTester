{
 "cells": [
  {
   "cell_type": "code",
   "execution_count": 1,
   "metadata": {},
   "outputs": [],
   "source": [
    "\n",
    "import pandas as pd\n",
    "import numpy as np\n",
    "import time\n",
    "import seaborn as sb\n",
    "import datetime as dt"
   ]
  },
  {
   "cell_type": "code",
   "execution_count": 2,
   "metadata": {},
   "outputs": [
    {
     "name": "stdout",
     "output_type": "stream",
     "text": [
      "15\n"
     ]
    }
   ],
   "source": [
    "t = '5/1/2020 16:15'\n",
    "def format_date(t):\n",
    "    if len(t)<11:\n",
    "        t = t+' 12:00' #somehow the data is missing the 12pm timem stamp\n",
    "    date,time = t.split(' ')\n",
    "    month,day,year = date.split('/')\n",
    "    hr,sec = time.split(':')\n",
    "\n",
    "    return dt.datetime(int(year),int(month),int(day),int(hr),int(sec))\n",
    "print(format_date(t).minute)"
   ]
  },
  {
   "cell_type": "code",
   "execution_count": 3,
   "metadata": {},
   "outputs": [],
   "source": [
    "def test_strat(data):\n",
    "    win = 0 \n",
    "    lose = 0\n",
    "    win_list = []\n",
    "    lose_list = []\n",
    "    current_day = None\n",
    "    minute_counter = 0 \n",
    "    price_weight = 0\n",
    "    volume  = 0 \n",
    "    close_price = -1\n",
    "    VMAP = 0 \n",
    "    side = 0 #1 indicates buy and 0 indicates sell\n",
    "    entry_price =0 \n",
    "    activated = False\n",
    "    entry_counter = 0 \n",
    "    for index, row in data.iterrows():\n",
    "        date = format_date(row['Date'])\n",
    "        if date.hour>15:\n",
    "            continue\n",
    "\n",
    "        if date.hour<9: \n",
    "            continue\n",
    "\n",
    "        if date.hour == 9 and date.minute<30:\n",
    "            continue\n",
    "\n",
    "        if current_day == None or date.day != current_day: # new data reset everyhing\n",
    "            #new_day\n",
    "            current_day = date.day\n",
    "            minute_counter  = 0\n",
    "            price_weight = 0\n",
    "            volume = 0\n",
    "            if close_price == 0:\n",
    "                print(\"missing closing for the day before\" +str(date))\n",
    "            close_price = 0\n",
    "            VMAP = 0\n",
    "            entry_price =0\n",
    "            activated = False\n",
    "            entry_counter = 0\n",
    "            side = 0\n",
    "\n",
    "        volume+=row['Volume']\n",
    "        price_weight+=row['Volume']*(row['High']+row['Low'])/2\n",
    "        \n",
    "        VMAP = price_weight/volume\n",
    "        if row['Open']>VMAP and entry_price == 0:\n",
    "            if side == 1: # if side was previously buy maens the previous tick was also above VMAP\n",
    "                entry_counter +=1\n",
    "            else:\n",
    "                side = 1\n",
    "                entry_counter = 1\n",
    "        elif row['Open']<=VMAP and entry_price == 0:\n",
    "            if side == 0:\n",
    "                entry_counter+=1\n",
    "            else:\n",
    "                side = 0\n",
    "                entry_counter = 1\n",
    "\n",
    "        \n",
    "        if side and entry_price  == 0 and entry_counter>30 :#buy\n",
    "\n",
    "            if row['Low']<VMAP: # if low less than VMAP buy\n",
    "                entry_price = row['Close']\n",
    "        \n",
    "        elif side == 0 and entry_price == 0 and entry_counter>30:\n",
    "\n",
    "            if row['High']>VMAP: #if high less than VMAP sell\n",
    "                entry_price = row['Close']\n",
    "\n",
    "        volume+=row['Volume']\n",
    "        price_weight+=row['Volume']*(row['High']+row['Low'])/2\n",
    "\n",
    "        if date.hour ==15 and date.minute ==59:\n",
    "            close_price = row['Open']\n",
    "            \n",
    "        if entry_price !=0 and close_price != 0:\n",
    "            if side:#buy\n",
    "                if entry_price<close_price:\n",
    "                    win +=1\n",
    "                    win_list.append((side,(close_price-entry_price)/entry_price))\n",
    "                else:\n",
    "                    lose+=1\n",
    "                    lose_list.append((side,(close_price-entry_price)/entry_price))\n",
    "\n",
    "            else:\n",
    "                if entry_price>close_price:\n",
    "                    win +=1\n",
    "                    win_list.append((side,(entry_price-close_price)/entry_price))\n",
    "                else:\n",
    "                    lose+=1\n",
    "                    lose_list.append((side,(entry_price-close_price)/entry_price))\n",
    "    \n",
    "    return win_list,lose_list"
   ]
  },
  {
   "cell_type": "code",
   "execution_count": 4,
   "metadata": {},
   "outputs": [
    {
     "name": "stdout",
     "output_type": "stream",
     "text": [
      "[]\n",
      "[(1, -0.004072290589144535)]\n",
      "total of 0 wining trades at a 0 gain\n",
      "total of 1 losing trades at a -0.004072290589144535 loss\n",
      "[]\n",
      "[]\n",
      "total of 0 wining trades at a 0 gain\n",
      "total of 0 losing trades at a 0 loss\n",
      "[]\n",
      "[(1, -0.013824301667141199)]\n",
      "total of 0 wining trades at a 0 gain\n",
      "total of 1 losing trades at a -0.013824301667141199 loss\n",
      "[(0, 0.00425748699101203)]\n",
      "[]\n",
      "total of 1 wining trades at a 0.00425748699101203 gain\n",
      "total of 0 losing trades at a 0 loss\n"
     ]
    }
   ],
   "source": [
    "#sanity check should be  a win\n",
    "days =['2/11/2020', '2/25/2020','2/26/2020','4/21/2020']\n",
    "data = pd.read_csv('SPY.csv')\n",
    "for day in days:\n",
    "    test_data = data.Date.str.contains(day)\n",
    "\n",
    "    win_list,lose_list =    test_strat(data[test_data])\n",
    "    total_win = 0\n",
    "    total_lose =0 \n",
    "    for i in win_list:\n",
    "        total_win +=i[1]\n",
    "    for i in lose_list:\n",
    "        total_lose +=i[1]\n",
    "    print(win_list)\n",
    "    print(lose_list)\n",
    "    print(\"total of {} wining trades at a {} gain\".format(str(len(win_list)),str(total_win)))\n",
    "    print(\"total of {} losing trades at a {} loss\".format(str(len(lose_list)),str(total_lose))) "
   ]
  },
  {
   "cell_type": "code",
   "execution_count": 5,
   "metadata": {
    "scrolled": true
   },
   "outputs": [
    {
     "name": "stdout",
     "output_type": "stream",
     "text": [
      "TLT.csv\n",
      "missing closing for the day before2019-12-02 09:30:00\n",
      "missing closing for the day before2019-12-26 09:30:00\n",
      "total of 62 wining trades at a 0.2532748982455413 gain\n",
      "total of 58 losing trades at a -0.5224063065484015 loss\n",
      "SPY.csv\n",
      "missing closing for the day before2019-12-02 09:30:00\n",
      "missing closing for the day before2019-12-26 09:30:00\n",
      "total of 54 wining trades at a 0.295369379093189 gain\n",
      "total of 66 losing trades at a -0.5272089814310525 loss\n",
      "APPL.CSV\n",
      "missing closing for the day before2019-12-02 09:30:00\n",
      "missing closing for the day before2019-12-26 09:30:00\n",
      "total of 49 wining trades at a 0.4356668529673019 gain\n",
      "total of 62 losing trades at a -0.6975790111645456 loss\n",
      "IWM.csv\n",
      "missing closing for the day before2019-12-02 09:30:00\n",
      "missing closing for the day before2019-12-26 09:30:00\n",
      "total of 61 wining trades at a 0.41090754565415105 gain\n",
      "total of 56 losing trades at a -0.4587348606817828 loss\n",
      "AMZN.csv\n",
      "missing closing for the day before2019-12-02 09:30:00\n",
      "missing closing for the day before2019-12-26 09:30:00\n",
      "total of 55 wining trades at a 0.41086396113719104 gain\n",
      "total of 51 losing trades at a -0.37514710146052616 loss\n"
     ]
    }
   ],
   "source": [
    "files = ['TLT.csv','SPY.csv','APPL.CSV', 'IWM.csv' ,'AMZN.csv']\n",
    "for filename in files:\n",
    "    data = pd.read_csv(filename)\n",
    "    print(filename)\n",
    "    win_list,lose_list =test_strat(data)\n",
    "    total_win = 0\n",
    "    total_lose =0 \n",
    "    for i in win_list:\n",
    "        total_win +=i[1]\n",
    "    for i in lose_list:\n",
    "        total_lose +=i[1]\n",
    "        \n",
    "    print(\"total of {} wining trades at a {} gain\".format(str(len(win_list)),str(total_win)))\n",
    "    print(\"total of {} losing trades at a {} loss\".format(str(len(lose_list)),str(total_lose)))"
   ]
  },
  {
   "cell_type": "code",
   "execution_count": null,
   "metadata": {},
   "outputs": [],
   "source": []
  },
  {
   "cell_type": "code",
   "execution_count": null,
   "metadata": {},
   "outputs": [],
   "source": []
  },
  {
   "cell_type": "code",
   "execution_count": null,
   "metadata": {},
   "outputs": [],
   "source": []
  },
  {
   "cell_type": "code",
   "execution_count": null,
   "metadata": {},
   "outputs": [],
   "source": []
  },
  {
   "cell_type": "code",
   "execution_count": null,
   "metadata": {
    "scrolled": false
   },
   "outputs": [],
   "source": []
  },
  {
   "cell_type": "code",
   "execution_count": null,
   "metadata": {},
   "outputs": [],
   "source": []
  },
  {
   "cell_type": "code",
   "execution_count": null,
   "metadata": {},
   "outputs": [],
   "source": []
  },
  {
   "cell_type": "code",
   "execution_count": null,
   "metadata": {},
   "outputs": [],
   "source": []
  },
  {
   "cell_type": "code",
   "execution_count": null,
   "metadata": {},
   "outputs": [],
   "source": []
  }
 ],
 "metadata": {
  "kernelspec": {
   "display_name": "Python 3",
   "language": "python",
   "name": "python3"
  },
  "language_info": {
   "codemirror_mode": {
    "name": "ipython",
    "version": 3
   },
   "file_extension": ".py",
   "mimetype": "text/x-python",
   "name": "python",
   "nbconvert_exporter": "python",
   "pygments_lexer": "ipython3",
   "version": "3.7.6"
  }
 },
 "nbformat": 4,
 "nbformat_minor": 4
}
